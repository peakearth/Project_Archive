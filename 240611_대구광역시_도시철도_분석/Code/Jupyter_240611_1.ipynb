{
 "cells": [
  {
   "cell_type": "code",
   "id": "initial_id",
   "metadata": {
    "collapsed": true,
    "ExecuteTime": {
     "end_time": "2024-06-11T05:51:29.710519Z",
     "start_time": "2024-06-11T05:51:29.281021Z"
    }
   },
   "source": [
    "import pandas as pd\n",
    "import numpy as np"
   ],
   "outputs": [],
   "execution_count": 1
  },
  {
   "metadata": {
    "ExecuteTime": {
     "end_time": "2024-06-11T05:52:01.766766Z",
     "start_time": "2024-06-11T05:52:01.760738Z"
    }
   },
   "cell_type": "code",
   "source": [
    "df = pd.read_csv('/Users/song/Documents/GitHub/Personal_Projects/240611_대구광역시_도시철도_분석/data_input/daegu_line_1.csv')\n",
    "print(df)\n",
    "print(df.shape)"
   ],
   "id": "1046a1952363ea96",
   "outputs": [
    {
     "name": "stdout",
     "output_type": "stream",
     "text": [
      "         년        총계\n",
      "0   2017_1  18283314\n",
      "1   2017_2  19039737\n",
      "2   2017_3  17734264\n",
      "3   2017_4  17990156\n",
      "4   2018_1  17337395\n",
      "5   2018_2  19149840\n",
      "6   2018_3  17707787\n",
      "7   2018_4  18418327\n",
      "8   2019_1  17946685\n",
      "9   2019_2  19418774\n",
      "10  2019_3  18302222\n",
      "11  2019_4  18696969\n",
      "12  2020_1  16355285\n",
      "13  2020_2   8478608\n",
      "14  2020_3  12769394\n",
      "15  2020_4  13125383\n",
      "16  2021_1  11431524\n",
      "17  2021_2  13973607\n",
      "18  2021_3  12820819\n",
      "19  2021_4  13776966\n",
      "20  2022_1  12749553\n",
      "21  2022_2  14242917\n",
      "22  2022_3  14460526\n",
      "23  2022_4  15066466\n",
      "24  2023_1  14622398\n",
      "25  2023_2  16001474\n",
      "26  2023_3  14763702\n",
      "27  2023_4  15330366\n",
      "(28, 2)\n"
     ]
    }
   ],
   "execution_count": 5
  },
  {
   "metadata": {
    "ExecuteTime": {
     "end_time": "2024-06-11T05:51:30.589983Z",
     "start_time": "2024-06-11T05:51:29.721734Z"
    }
   },
   "cell_type": "code",
   "source": [
    "users = np.array(df['2022_4'])\n",
    "users_df = pd.DataFrame(users)\n",
    "# print(users)\n",
    "\n",
    "# 대푯값\n",
    "\n",
    "print('대표값: ', sum(users) / len(users))\n",
    "\n",
    "# 평균\n",
    "print('평균: ', np.mean(users))\n",
    "\n",
    "# 중앙값\n",
    "print('중앙값: ', np.median(users))\n",
    "\n",
    "# 편차\n",
    "mean = np.mean(users)\n",
    "deviation = users - mean\n",
    "print('편차: ', mean)\n",
    "print('편차 평균: ', np.mean(deviation))\n",
    "\n",
    "# 분산\n",
    "var = np.var(users)\n",
    "print('분산: ', var)\n",
    "\n",
    "# 표준분산\n",
    "std = np.std(users)\n",
    "print('표준분산: ', std)\n",
    "\n",
    "# 범위 / 4분위\n",
    "# 범위: Max ~ Min Value\n",
    "# 사분면: 25% / 50 % / 75% / 100%\n",
    "user_q1 = np.quantile(users, 0.25)\n",
    "print('Q1: ', user_q1)\n",
    "user_q3 = np.quantile(users, 0.75)\n",
    "print('Q3: ', user_q3)\n",
    "user_iqr = user_q3 - user_q1\n",
    "print('IQR: ', user_iqr)\n",
    "\n",
    "# 표준화 (평균 0 & 표준편차 1)\n",
    "z = ((users - mean) / std)\n",
    "print('표준화: ',z)\n",
    "print('표준평균', np.mean(z), '표준편차', np.std(z, ddof=0))\n",
    "\n",
    "# 편차값 (평균 50 & 표준편차 10)\n",
    "z1 = 50 + 10 * ((users - mean) / std)\n",
    "print('편차값: ', z1)\n",
    "\n",
    "# 데이터프레임화\n",
    "summary = users_df.copy()\n",
    "summary['편차'] = deviation\n",
    "summary['분산'] = var\n",
    "summary['표준분산'] = std\n",
    "summary['Deviation Value'] = z1\n",
    "print(summary)"
   ],
   "id": "fd7af2c7e3ee272a",
   "outputs": [
    {
     "ename": "KeyError",
     "evalue": "'2022_4'",
     "output_type": "error",
     "traceback": [
      "\u001B[0;31m---------------------------------------------------------------------------\u001B[0m",
      "\u001B[0;31mKeyError\u001B[0m                                  Traceback (most recent call last)",
      "File \u001B[0;32m/opt/anaconda3/envs/request/lib/python3.10/site-packages/pandas/core/indexes/base.py:3805\u001B[0m, in \u001B[0;36mIndex.get_loc\u001B[0;34m(self, key)\u001B[0m\n\u001B[1;32m   3804\u001B[0m \u001B[38;5;28;01mtry\u001B[39;00m:\n\u001B[0;32m-> 3805\u001B[0m     \u001B[38;5;28;01mreturn\u001B[39;00m \u001B[38;5;28;43mself\u001B[39;49m\u001B[38;5;241;43m.\u001B[39;49m\u001B[43m_engine\u001B[49m\u001B[38;5;241;43m.\u001B[39;49m\u001B[43mget_loc\u001B[49m\u001B[43m(\u001B[49m\u001B[43mcasted_key\u001B[49m\u001B[43m)\u001B[49m\n\u001B[1;32m   3806\u001B[0m \u001B[38;5;28;01mexcept\u001B[39;00m \u001B[38;5;167;01mKeyError\u001B[39;00m \u001B[38;5;28;01mas\u001B[39;00m err:\n",
      "File \u001B[0;32mindex.pyx:167\u001B[0m, in \u001B[0;36mpandas._libs.index.IndexEngine.get_loc\u001B[0;34m()\u001B[0m\n",
      "File \u001B[0;32mindex.pyx:196\u001B[0m, in \u001B[0;36mpandas._libs.index.IndexEngine.get_loc\u001B[0;34m()\u001B[0m\n",
      "File \u001B[0;32mpandas/_libs/hashtable_class_helper.pxi:7081\u001B[0m, in \u001B[0;36mpandas._libs.hashtable.PyObjectHashTable.get_item\u001B[0;34m()\u001B[0m\n",
      "File \u001B[0;32mpandas/_libs/hashtable_class_helper.pxi:7089\u001B[0m, in \u001B[0;36mpandas._libs.hashtable.PyObjectHashTable.get_item\u001B[0;34m()\u001B[0m\n",
      "\u001B[0;31mKeyError\u001B[0m: '2022_4'",
      "\nThe above exception was the direct cause of the following exception:\n",
      "\u001B[0;31mKeyError\u001B[0m                                  Traceback (most recent call last)",
      "Cell \u001B[0;32mIn[3], line 1\u001B[0m\n\u001B[0;32m----> 1\u001B[0m users \u001B[38;5;241m=\u001B[39m np\u001B[38;5;241m.\u001B[39marray(\u001B[43mdf\u001B[49m\u001B[43m[\u001B[49m\u001B[38;5;124;43m'\u001B[39;49m\u001B[38;5;124;43m2022_4\u001B[39;49m\u001B[38;5;124;43m'\u001B[39;49m\u001B[43m]\u001B[49m)\n\u001B[1;32m      2\u001B[0m users_df \u001B[38;5;241m=\u001B[39m pd\u001B[38;5;241m.\u001B[39mDataFrame(users)\n\u001B[1;32m      3\u001B[0m \u001B[38;5;66;03m# print(users)\u001B[39;00m\n\u001B[1;32m      4\u001B[0m \n\u001B[1;32m      5\u001B[0m \u001B[38;5;66;03m# 대푯값\u001B[39;00m\n",
      "File \u001B[0;32m/opt/anaconda3/envs/request/lib/python3.10/site-packages/pandas/core/frame.py:4090\u001B[0m, in \u001B[0;36mDataFrame.__getitem__\u001B[0;34m(self, key)\u001B[0m\n\u001B[1;32m   4088\u001B[0m \u001B[38;5;28;01mif\u001B[39;00m \u001B[38;5;28mself\u001B[39m\u001B[38;5;241m.\u001B[39mcolumns\u001B[38;5;241m.\u001B[39mnlevels \u001B[38;5;241m>\u001B[39m \u001B[38;5;241m1\u001B[39m:\n\u001B[1;32m   4089\u001B[0m     \u001B[38;5;28;01mreturn\u001B[39;00m \u001B[38;5;28mself\u001B[39m\u001B[38;5;241m.\u001B[39m_getitem_multilevel(key)\n\u001B[0;32m-> 4090\u001B[0m indexer \u001B[38;5;241m=\u001B[39m \u001B[38;5;28;43mself\u001B[39;49m\u001B[38;5;241;43m.\u001B[39;49m\u001B[43mcolumns\u001B[49m\u001B[38;5;241;43m.\u001B[39;49m\u001B[43mget_loc\u001B[49m\u001B[43m(\u001B[49m\u001B[43mkey\u001B[49m\u001B[43m)\u001B[49m\n\u001B[1;32m   4091\u001B[0m \u001B[38;5;28;01mif\u001B[39;00m is_integer(indexer):\n\u001B[1;32m   4092\u001B[0m     indexer \u001B[38;5;241m=\u001B[39m [indexer]\n",
      "File \u001B[0;32m/opt/anaconda3/envs/request/lib/python3.10/site-packages/pandas/core/indexes/base.py:3812\u001B[0m, in \u001B[0;36mIndex.get_loc\u001B[0;34m(self, key)\u001B[0m\n\u001B[1;32m   3807\u001B[0m     \u001B[38;5;28;01mif\u001B[39;00m \u001B[38;5;28misinstance\u001B[39m(casted_key, \u001B[38;5;28mslice\u001B[39m) \u001B[38;5;129;01mor\u001B[39;00m (\n\u001B[1;32m   3808\u001B[0m         \u001B[38;5;28misinstance\u001B[39m(casted_key, abc\u001B[38;5;241m.\u001B[39mIterable)\n\u001B[1;32m   3809\u001B[0m         \u001B[38;5;129;01mand\u001B[39;00m \u001B[38;5;28many\u001B[39m(\u001B[38;5;28misinstance\u001B[39m(x, \u001B[38;5;28mslice\u001B[39m) \u001B[38;5;28;01mfor\u001B[39;00m x \u001B[38;5;129;01min\u001B[39;00m casted_key)\n\u001B[1;32m   3810\u001B[0m     ):\n\u001B[1;32m   3811\u001B[0m         \u001B[38;5;28;01mraise\u001B[39;00m InvalidIndexError(key)\n\u001B[0;32m-> 3812\u001B[0m     \u001B[38;5;28;01mraise\u001B[39;00m \u001B[38;5;167;01mKeyError\u001B[39;00m(key) \u001B[38;5;28;01mfrom\u001B[39;00m \u001B[38;5;21;01merr\u001B[39;00m\n\u001B[1;32m   3813\u001B[0m \u001B[38;5;28;01mexcept\u001B[39;00m \u001B[38;5;167;01mTypeError\u001B[39;00m:\n\u001B[1;32m   3814\u001B[0m     \u001B[38;5;66;03m# If we have a listlike key, _check_indexing_error will raise\u001B[39;00m\n\u001B[1;32m   3815\u001B[0m     \u001B[38;5;66;03m#  InvalidIndexError. Otherwise we fall through and re-raise\u001B[39;00m\n\u001B[1;32m   3816\u001B[0m     \u001B[38;5;66;03m#  the TypeError.\u001B[39;00m\n\u001B[1;32m   3817\u001B[0m     \u001B[38;5;28mself\u001B[39m\u001B[38;5;241m.\u001B[39m_check_indexing_error(key)\n",
      "\u001B[0;31mKeyError\u001B[0m: '2022_4'"
     ]
    }
   ],
   "execution_count": 3
  },
  {
   "metadata": {
    "ExecuteTime": {
     "end_time": "2024-06-11T05:51:30.590695Z",
     "start_time": "2024-06-11T05:51:30.590632Z"
    }
   },
   "cell_type": "code",
   "source": "# ",
   "id": "5a29d9212b3cf469",
   "outputs": [],
   "execution_count": null
  }
 ],
 "metadata": {
  "kernelspec": {
   "display_name": "Python 3",
   "language": "python",
   "name": "python3"
  },
  "language_info": {
   "codemirror_mode": {
    "name": "ipython",
    "version": 2
   },
   "file_extension": ".py",
   "mimetype": "text/x-python",
   "name": "python",
   "nbconvert_exporter": "python",
   "pygments_lexer": "ipython2",
   "version": "2.7.6"
  }
 },
 "nbformat": 4,
 "nbformat_minor": 5
}
